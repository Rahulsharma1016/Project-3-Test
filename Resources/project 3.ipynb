{
 "cells": [
  {
   "cell_type": "code",
   "execution_count": 1,
   "metadata": {},
   "outputs": [
    {
     "name": "stdout",
     "output_type": "stream",
     "text": [
      "  Area Code         Area Months Code    Months Element Code  \\\n",
      "0         2  Afghanistan        7001   January         7271   \n",
      "1         2  Afghanistan        7001   January         6078   \n",
      "2         2  Afghanistan        7002  February         7271   \n",
      "3         2  Afghanistan        7002  February         6078   \n",
      "4         2  Afghanistan        7003     March         7271   \n",
      "\n",
      "              Element Unit      Y1961     Y1962     Y1963  ...     Y2010  \\\n",
      "0  Temperature change   °C   0.777000  0.062000  2.744000  ...  3.601000   \n",
      "1  Standard Deviation   °C   1.950000  1.950000  1.950000  ...  1.950000   \n",
      "2  Temperature change   °C  -1.743000  2.465000  3.919000  ...  1.212000   \n",
      "3  Standard Deviation   °C   2.597000  2.597000  2.597000  ...  2.597000   \n",
      "4  Temperature change   °C   0.516000  1.336000  0.403000  ...  3.390000   \n",
      "\n",
      "      Y2011      Y2012     Y2013      Y2014      Y2015     Y2016      Y2017  \\\n",
      "0  1.179000  -0.583000  1.233000   1.755000   1.943000  3.416000   1.201000   \n",
      "1  1.950000   1.950000  1.950000   1.950000   1.950000  1.950000   1.950000   \n",
      "2  0.321000  -3.201000  1.494000  -3.187000   2.699000  2.251000  -0.323000   \n",
      "3  2.597000   2.597000  2.597000   2.597000   2.597000  2.597000   2.597000   \n",
      "4  0.748000  -0.527000  2.246000  -0.076000  -0.497000  2.296000   0.834000   \n",
      "\n",
      "      Y2018     Y2019  \n",
      "0  1.996000  2.951000  \n",
      "1  1.950000  1.950000  \n",
      "2  2.705000  0.086000  \n",
      "3  2.597000  2.597000  \n",
      "4  4.418000  0.234000  \n",
      "\n",
      "[5 rows x 66 columns]\n"
     ]
    }
   ],
   "source": [
    "import numpy as np \n",
    "import pandas as pd \n",
    "import os\n",
    "import csv\n",
    "import matplotlib.pyplot as plt\n",
    "import pandas as pd\n",
    "import csv\n",
    "import plotly.graph_objects as go\n",
    "\n",
    "# Open the CSV file using the csv module\n",
    "with open('Environment_Temperature_change_E_All_Data_NOFLAG.csv', mode='r') as file:\n",
    "    csv_reader = csv.reader(file)\n",
    "    \n",
    "    # Skip the header row\n",
    "    header = next(csv_reader, None)\n",
    "    \n",
    "    # Load the data from csv_reader into a list\n",
    "    data = [row for row in csv_reader]\n",
    "\n",
    "# Convert the list to a Pandas DataFrame\n",
    "df = pd.DataFrame(data, columns=header)\n",
    "\n",
    "# Display the first few rows\n",
    "print(df.head())\n"
   ]
  },
  {
   "cell_type": "code",
   "execution_count": 2,
   "metadata": {},
   "outputs": [
    {
     "name": "stdout",
     "output_type": "stream",
     "text": [
      "      Meteorological Year 1962  Meteorological Year 1963  \\\n",
      "0                        0.600                    -0.721   \n",
      "1                        1.516                     1.516   \n",
      "2                       -0.321                    -2.019   \n",
      "3                        1.229                     1.229   \n",
      "4                        0.906                    -0.303   \n",
      "...                        ...                       ...   \n",
      "6811                     0.322                     0.322   \n",
      "6812                     0.765                     1.305   \n",
      "6813                     0.635                     0.635   \n",
      "6814                     0.668                     0.429   \n",
      "6815                     0.435                     0.435   \n",
      "\n",
      "      Meteorological Year 1964  Meteorological Year 1965  \\\n",
      "0                       -0.603                    -3.636   \n",
      "1                        1.516                     1.516   \n",
      "2                        0.884                     0.450   \n",
      "3                        1.229                     1.229   \n",
      "4                        1.938                    -0.706   \n",
      "...                        ...                       ...   \n",
      "6811                     0.322                     0.322   \n",
      "6812                    -0.355                    -0.092   \n",
      "6813                     0.635                     0.635   \n",
      "6814                    -0.003                     0.111   \n",
      "6815                     0.435                     0.435   \n",
      "\n",
      "      Meteorological Year 1966  Meteorological Year 1967  \\\n",
      "0                       -1.115                    -0.327   \n",
      "1                        1.516                     1.516   \n",
      "2                        0.972                    -0.563   \n",
      "3                        1.229                     1.229   \n",
      "4                        0.537                    -0.877   \n",
      "...                        ...                       ...   \n",
      "6811                     0.322                     0.322   \n",
      "6812                    -0.556                     0.517   \n",
      "6813                     0.635                     0.635   \n",
      "6814                    -0.564                     0.273   \n",
      "6815                     0.435                     0.435   \n",
      "\n",
      "      Meteorological Year 1968  Meteorological Year 1969  \\\n",
      "0                       -0.347                     0.056   \n",
      "1                        1.516                     1.516   \n",
      "2                       -0.474                    -0.655   \n",
      "3                        1.229                     1.229   \n",
      "4                       -1.709                     0.279   \n",
      "...                        ...                       ...   \n",
      "6811                     0.322                     0.322   \n",
      "6812                     0.477                     0.042   \n",
      "6813                     0.635                     0.635   \n",
      "6814                     0.099                     0.138   \n",
      "6815                     0.435                     0.435   \n",
      "\n",
      "      Meteorological Year 1970  Meteorological Year 1971  ...  \\\n",
      "0                        1.985                    -0.186  ...   \n",
      "1                        1.516                     1.516  ...   \n",
      "2                       -0.885                     0.011  ...   \n",
      "3                        1.229                     1.229  ...   \n",
      "4                       -1.065                     0.045  ...   \n",
      "...                        ...                       ...  ...   \n",
      "6811                     0.322                     0.322  ...   \n",
      "6812                    -0.181                     0.482  ...   \n",
      "6813                     0.635                     0.635  ...   \n",
      "6814                     0.031                    -0.657  ...   \n",
      "6815                     0.435                     0.435  ...   \n",
      "\n",
      "      Meteorological Year 2010  Meteorological Year 2011  \\\n",
      "0                        0.950                    -0.154   \n",
      "1                        1.516                     1.516   \n",
      "2                        1.902                     0.453   \n",
      "3                        1.229                     1.229   \n",
      "4                        3.185                     2.768   \n",
      "...                        ...                       ...   \n",
      "6811                     0.322                     0.322   \n",
      "6812                     0.964                     1.117   \n",
      "6813                     0.635                     0.635   \n",
      "6814                     1.088                     0.882   \n",
      "6815                     0.435                     0.435   \n",
      "\n",
      "      Meteorological Year 2012  Meteorological Year 2013  \\\n",
      "0                       -1.789                    -0.467   \n",
      "1                        1.516                     1.516   \n",
      "2                        0.703                    -0.831   \n",
      "3                        1.229                     1.229   \n",
      "4                        0.421                     0.771   \n",
      "...                        ...                       ...   \n",
      "6811                     0.322                     0.322   \n",
      "6812                     0.544                     1.321   \n",
      "6813                     0.635                     0.635   \n",
      "6814                     0.741                     0.326   \n",
      "6815                     0.435                     0.435   \n",
      "\n",
      "      Meteorological Year 2014  Meteorological Year 2015  \\\n",
      "0                       -0.216                     0.005   \n",
      "1                        1.516                     1.516   \n",
      "2                       -0.035                     1.106   \n",
      "3                        1.229                     1.229   \n",
      "4                        0.041                     0.018   \n",
      "...                        ...                       ...   \n",
      "6811                     0.322                     0.322   \n",
      "6812                     1.675                     1.658   \n",
      "6813                     0.635                     0.635   \n",
      "6814                     0.357                     2.063   \n",
      "6815                     0.435                     0.435   \n",
      "\n",
      "      Meteorological Year 2016  Meteorological Year 2017  \\\n",
      "0                        0.048                     3.429   \n",
      "1                        1.516                     1.516   \n",
      "2                        0.509                    -0.872   \n",
      "3                        1.229                     1.229   \n",
      "4                        1.056                     1.815   \n",
      "...                        ...                       ...   \n",
      "6811                     0.322                     0.322   \n",
      "6812                     0.916                     1.413   \n",
      "6813                     0.635                     0.635   \n",
      "6814                     2.353                     0.878   \n",
      "6815                     0.435                     0.435   \n",
      "\n",
      "      Meteorological Year 2018  Meteorological Year 2019  \n",
      "0                        0.441                     1.311  \n",
      "1                        1.516                     1.516  \n",
      "2                        0.476                     0.040  \n",
      "3                        1.229                     1.229  \n",
      "4                       -0.081                     1.255  \n",
      "...                        ...                       ...  \n",
      "6811                     0.322                     0.322  \n",
      "6812                     0.622                     1.127  \n",
      "6813                     0.635                     0.635  \n",
      "6814                     0.364                     1.030  \n",
      "6815                     0.435                     0.435  \n",
      "\n",
      "[6816 rows x 58 columns]\n"
     ]
    }
   ],
   "source": [
    "def create_meteorological_year(df):\n",
    "    # Extract the available years from the column names (e.g., 'Y1960')\n",
    "    years = [col for col in df.columns if col.startswith('Y')]\n",
    "\n",
    "    meteo_year_data = pd.DataFrame()\n",
    "\n",
    "    for i in range(len(years) - 1):\n",
    "        # Get current and next year (excluding 'Y')\n",
    "        year = years[i][1:]  # Get the year as a string, removing 'Y'\n",
    "        next_year = years[i + 1][1:]  # Next year for the November cutoff\n",
    "        \n",
    "        # Extract December of the previous year\n",
    "        dec_prev_year = df[df['Months'] == 'December'][f'Y{year}']\n",
    "        \n",
    "        # Extract January to November of the current year\n",
    "        jan_to_nov_current_year = df[df['Months'].isin(['January', 'February', 'March', 'April', 'May', 'June', 'July', 'August', 'September', 'October', 'November'])][f'Y{next_year}']\n",
    "\n",
    "        # Concatenate the December and the rest of the months\n",
    "        meteo_year = pd.concat([dec_prev_year.reset_index(drop=True), jan_to_nov_current_year.reset_index(drop=True)], axis=0)\n",
    "\n",
    "        # Add the reorganized year to a new DataFrame\n",
    "        meteo_year_data[f'Meteorological Year {next_year}'] = meteo_year.reset_index(drop=True)\n",
    "\n",
    "    return meteo_year_data\n",
    "\n",
    "# Usage Example\n",
    "df = pd.read_csv('Environment_Temperature_change_E_All_Data_NOFLAG.csv', encoding='ISO-8859-1')\n",
    "meteo_data = create_meteorological_year(df)\n",
    "\n",
    "# Display or save the output\n",
    "print(meteo_data)\n"
   ]
  },
  {
   "cell_type": "code",
   "execution_count": 3,
   "metadata": {},
   "outputs": [
    {
     "name": "stdout",
     "output_type": "stream",
     "text": [
      "      Dec-Jan-Feb 1962  Dec-Jan-Feb 1963  Dec-Jan-Feb 1964  Dec-Jan-Feb 1965  \\\n",
      "0                0.600            -0.721            -0.603            -3.636   \n",
      "1                1.516             1.516             1.516             1.516   \n",
      "2               -0.321            -2.019             0.884             0.450   \n",
      "3                1.229             1.229             1.229             1.229   \n",
      "4                0.906            -0.303             1.938            -0.706   \n",
      "...                ...               ...               ...               ...   \n",
      "1699             0.493             0.493             0.493             0.493   \n",
      "1700            -0.168            -0.906             0.532             0.176   \n",
      "1701             0.583             0.583             0.583             0.583   \n",
      "1702            -0.342            -0.018             0.125            -1.068   \n",
      "1703             0.930             0.930             0.930             0.930   \n",
      "\n",
      "      Dec-Jan-Feb 1966  Dec-Jan-Feb 1967  Dec-Jan-Feb 1968  Dec-Jan-Feb 1969  \\\n",
      "0               -1.115            -0.327            -0.347             0.056   \n",
      "1                1.516             1.516             1.516             1.516   \n",
      "2                0.972            -0.563            -0.474            -0.655   \n",
      "3                1.229             1.229             1.229             1.229   \n",
      "4                0.537            -0.877            -1.709             0.279   \n",
      "...                ...               ...               ...               ...   \n",
      "1699             0.493             0.493             0.493             0.493   \n",
      "1700            -1.441             0.452            -0.355            -0.141   \n",
      "1701             0.583             0.583             0.583             0.583   \n",
      "1702            -0.013            -0.926            -0.015             0.349   \n",
      "1703             0.930             0.930             0.930             0.930   \n",
      "\n",
      "      Dec-Jan-Feb 1970  Dec-Jan-Feb 1971  ...  Dec-Jan-Feb 2010  \\\n",
      "0                1.985            -0.186  ...             0.950   \n",
      "1                1.516             1.516  ...             1.516   \n",
      "2               -0.885             0.011  ...             1.902   \n",
      "3                1.229             1.229  ...             1.229   \n",
      "4               -1.065             0.045  ...             3.185   \n",
      "...                ...               ...  ...               ...   \n",
      "1699             0.493             0.493  ...             0.493   \n",
      "1700            -0.462            -0.398  ...             1.451   \n",
      "1701             0.583             0.583  ...             0.583   \n",
      "1702             0.484             0.235  ...             1.717   \n",
      "1703             0.930             0.930  ...             0.930   \n",
      "\n",
      "      Dec-Jan-Feb 2011  Dec-Jan-Feb 2012  Dec-Jan-Feb 2013  Dec-Jan-Feb 2014  \\\n",
      "0               -0.154            -1.789            -0.467            -0.216   \n",
      "1                1.516             1.516             1.516             1.516   \n",
      "2                0.453             0.703            -0.831            -0.035   \n",
      "3                1.229             1.229             1.229             1.229   \n",
      "4                2.768             0.421             0.771             0.041   \n",
      "...                ...               ...               ...               ...   \n",
      "1699             0.493             0.493             0.493             0.493   \n",
      "1700             1.463             1.582             1.730             1.928   \n",
      "1701             0.583             0.583             0.583             0.583   \n",
      "1702             0.257             1.672             1.340             0.455   \n",
      "1703             0.930             0.930             0.930             0.930   \n",
      "\n",
      "      Dec-Jan-Feb 2015  Dec-Jan-Feb 2016  Dec-Jan-Feb 2017  Dec-Jan-Feb 2018  \\\n",
      "0                0.005             0.048             3.429             0.441   \n",
      "1                1.516             1.516             1.516             1.516   \n",
      "2                1.106             0.509            -0.872             0.476   \n",
      "3                1.229             1.229             1.229             1.229   \n",
      "4                0.018             1.056             1.815            -0.081   \n",
      "...                ...               ...               ...               ...   \n",
      "1699             0.493             0.493             0.493             0.493   \n",
      "1700             1.521             2.535             2.446             1.962   \n",
      "1701             0.583             0.583             0.583             0.583   \n",
      "1702             0.408             2.720             2.398             0.760   \n",
      "1703             0.930             0.930             0.930             0.930   \n",
      "\n",
      "      Dec-Jan-Feb 2019  \n",
      "0                1.311  \n",
      "1                1.516  \n",
      "2                0.040  \n",
      "3                1.229  \n",
      "4                1.255  \n",
      "...                ...  \n",
      "1699             0.493  \n",
      "1700             1.744  \n",
      "1701             0.583  \n",
      "1702             0.650  \n",
      "1703             0.930  \n",
      "\n",
      "[1704 rows x 58 columns]\n"
     ]
    }
   ],
   "source": [
    "def get_dec_jan_feb_data(df):\n",
    "    # Extract the available years from the column names (e.g., 'Y1960')\n",
    "    years = [col for col in df.columns if col.startswith('Y')]\n",
    "\n",
    "    dec_jan_feb_data = pd.DataFrame()\n",
    "\n",
    "    for i in range(len(years) - 1):\n",
    "        # Get current and next year (excluding 'Y')\n",
    "        year = years[i][1:]  # Get the year as a string, removing 'Y'\n",
    "        next_year = years[i + 1][1:]  # Next year for Jan and Feb\n",
    "\n",
    "        # Extract December of the current year\n",
    "        dec_current_year = df[df['Months'] == 'December'][f'Y{year}']\n",
    "\n",
    "        # Extract January and February of the next year\n",
    "        jan_feb_next_year = df[df['Months'].isin(['January', 'February'])][f'Y{next_year}']\n",
    "\n",
    "        # Concatenate December and January-February data\n",
    "        dec_jan_feb = pd.concat([dec_current_year.reset_index(drop=True), jan_feb_next_year.reset_index(drop=True)], axis=0)\n",
    "\n",
    "        # Add the data to the result DataFrame, labeled by the next year (for Jan-Feb context)\n",
    "        dec_jan_feb_data[f'Dec-Jan-Feb {next_year}'] = dec_jan_feb.reset_index(drop=True)\n",
    "\n",
    "    return dec_jan_feb_data\n",
    "\n",
    "# Usage Example\n",
    "df = pd.read_csv('Environment_Temperature_change_E_All_Data_NOFLAG.csv', encoding='ISO-8859-1')\n",
    "dec_jan_feb_data = get_dec_jan_feb_data(df)\n",
    "\n",
    "# Display or save the output\n",
    "print(dec_jan_feb_data)\n"
   ]
  },
  {
   "cell_type": "code",
   "execution_count": 4,
   "metadata": {},
   "outputs": [
    {
     "name": "stdout",
     "output_type": "stream",
     "text": [
      "      Mar-Apr-May 1961  Mar-Apr-May 1962  Mar-Apr-May 1963  Mar-Apr-May 1964  \\\n",
      "0                0.516             1.336             0.403             1.659   \n",
      "1                1.512             1.512             1.512             1.512   \n",
      "2               -1.709             0.117             0.919            -0.533   \n",
      "3                1.406             1.406             1.406             1.406   \n",
      "4                1.412            -0.092            -0.690            -0.160   \n",
      "...                ...               ...               ...               ...   \n",
      "1699             0.677             0.677             0.677             0.677   \n",
      "1700            -0.029            -0.054             0.423            -0.307   \n",
      "1701             0.411             0.411             0.411             0.411   \n",
      "1702            -0.290            -0.320             0.135             0.128   \n",
      "1703             0.383             0.383             0.383             0.383   \n",
      "\n",
      "      Mar-Apr-May 1965  Mar-Apr-May 1966  Mar-Apr-May 1967  Mar-Apr-May 1968  \\\n",
      "0               -0.909            -0.069            -0.759             0.496   \n",
      "1                1.512             1.512             1.512             1.512   \n",
      "2               -1.816            -1.192            -1.496            -0.590   \n",
      "3                1.406             1.406             1.406             1.406   \n",
      "4               -0.190            -0.192            -1.307            -1.841   \n",
      "...                ...               ...               ...               ...   \n",
      "1699             0.677             0.677             0.677             0.677   \n",
      "1700             0.020            -0.375            -0.394             0.314   \n",
      "1701             0.411             0.411             0.411             0.411   \n",
      "1702             0.061            -0.283            -0.369            -0.630   \n",
      "1703             0.383             0.383             0.383             0.383   \n",
      "\n",
      "      Mar-Apr-May 1969  Mar-Apr-May 1970  ...  Mar-Apr-May 2010  \\\n",
      "0                2.481            -0.915  ...             3.390   \n",
      "1                1.512             1.512  ...             1.512   \n",
      "2               -0.770             1.439  ...             2.591   \n",
      "3                1.406             1.406  ...             1.406   \n",
      "4               -0.977             1.864  ...             1.419   \n",
      "...                ...               ...  ...               ...   \n",
      "1699             0.677             0.677  ...             0.677   \n",
      "1700             0.352            -0.389  ...             2.391   \n",
      "1701             0.411             0.411  ...             0.411   \n",
      "1702             0.120            -0.368  ...             0.687   \n",
      "1703             0.383             0.383  ...             0.383   \n",
      "\n",
      "      Mar-Apr-May 2011  Mar-Apr-May 2012  Mar-Apr-May 2013  Mar-Apr-May 2014  \\\n",
      "0                0.748            -0.527             2.246            -0.076   \n",
      "1                1.512             1.512             1.512             1.512   \n",
      "2                1.712             1.417            -0.052             0.585   \n",
      "3                1.406             1.406             1.406             1.406   \n",
      "4                3.643             0.909             1.201             0.959   \n",
      "...                ...               ...               ...               ...   \n",
      "1699             0.677             0.677             0.677             0.677   \n",
      "1700             0.405             1.248            -0.036             0.806   \n",
      "1701             0.411             0.411             0.411             0.411   \n",
      "1702             0.229             1.133             0.717             1.179   \n",
      "1703             0.383             0.383             0.383             0.383   \n",
      "\n",
      "      Mar-Apr-May 2015  Mar-Apr-May 2016  Mar-Apr-May 2017  Mar-Apr-May 2018  \\\n",
      "0               -0.497             2.296             0.834             4.418   \n",
      "1                1.512             1.512             1.512             1.512   \n",
      "2                1.589             0.980             1.252             1.442   \n",
      "3                1.406             1.406             1.406             1.406   \n",
      "4                1.862             3.246             3.280             0.855   \n",
      "...                ...               ...               ...               ...   \n",
      "1699             0.677             0.677             0.677             0.677   \n",
      "1700             0.904             1.470             1.043             0.636   \n",
      "1701             0.411             0.411             0.411             0.411   \n",
      "1702             0.952             1.664             1.068             1.596   \n",
      "1703             0.383             0.383             0.383             0.383   \n",
      "\n",
      "      Mar-Apr-May 2019  \n",
      "0                0.234  \n",
      "1                1.512  \n",
      "2                0.899  \n",
      "3                1.406  \n",
      "4                0.647  \n",
      "...                ...  \n",
      "1699             0.677  \n",
      "1700             1.228  \n",
      "1701             0.411  \n",
      "1702             0.728  \n",
      "1703             0.383  \n",
      "\n",
      "[1704 rows x 59 columns]\n"
     ]
    }
   ],
   "source": [
    "def get_mar_apr_may_data(df):\n",
    "    # Extract the available years from the column names (e.g., 'Y1960')\n",
    "    years = [col for col in df.columns if col.startswith('Y')]\n",
    "\n",
    "    mar_apr_may_data = pd.DataFrame()\n",
    "\n",
    "    for year in years:\n",
    "        # Extract March, April, and May of the current year\n",
    "        mar_apr_may = df[df['Months'].isin(['March', 'April', 'May'])][year]\n",
    "\n",
    "        # Add the data to the result DataFrame, labeled by the year\n",
    "        mar_apr_may_data[f'Mar-Apr-May {year[1:]}'] = mar_apr_may.reset_index(drop=True)\n",
    "\n",
    "    return mar_apr_may_data\n",
    "\n",
    "# Usage Example\n",
    "df = pd.read_csv('Environment_Temperature_change_E_All_Data_NOFLAG.csv', encoding='ISO-8859-1')\n",
    "mar_apr_may_data = get_mar_apr_may_data(df)\n",
    "\n",
    "# Display or save the output\n",
    "print(mar_apr_may_data)\n"
   ]
  },
  {
   "cell_type": "code",
   "execution_count": 5,
   "metadata": {},
   "outputs": [
    {
     "name": "stdout",
     "output_type": "stream",
     "text": [
      "      Jun-Jul-Aug 1961  Jun-Jul-Aug 1962  Jun-Jul-Aug 1963  Jun-Jul-Aug 1964  \\\n",
      "0               -0.058            -1.061             1.164            -0.519   \n",
      "1                0.930             0.930             0.930             0.930   \n",
      "2                0.884             0.292             0.348            -0.142   \n",
      "3                0.585             0.585             0.585             0.585   \n",
      "4                0.391            -0.220             0.094             0.671   \n",
      "...                ...               ...               ...               ...   \n",
      "1699             0.276             0.276             0.276             0.276   \n",
      "1700            -0.112            -0.181             0.012             0.239   \n",
      "1701             0.343             0.343             0.343             0.343   \n",
      "1702             0.064             0.130             0.036            -0.361   \n",
      "1703             0.322             0.322             0.322             0.322   \n",
      "\n",
      "      Jun-Jul-Aug 1965  Jun-Jul-Aug 1966  Jun-Jul-Aug 1967  Jun-Jul-Aug 1968  \\\n",
      "0               -0.422             1.274            -0.722             0.292   \n",
      "1                0.930             0.930             0.930             0.930   \n",
      "2                0.116            -0.267             0.332            -0.256   \n",
      "3                0.585             0.585             0.585             0.585   \n",
      "4               -0.686             0.049             0.055            -0.155   \n",
      "...                ...               ...               ...               ...   \n",
      "1699             0.276             0.276             0.276             0.276   \n",
      "1700            -0.762             0.104            -0.253            -0.500   \n",
      "1701             0.343             0.343             0.343             0.343   \n",
      "1702            -0.366            -0.296            -0.079            -0.772   \n",
      "1703             0.322             0.322             0.322             0.322   \n",
      "\n",
      "      Jun-Jul-Aug 1969  Jun-Jul-Aug 1970  ...  Jun-Jul-Aug 2010  \\\n",
      "0               -0.270             0.544  ...             0.594   \n",
      "1                0.930             0.930  ...             0.930   \n",
      "2               -0.024            -0.534  ...             0.494   \n",
      "3                0.585             0.585  ...             0.585   \n",
      "4               -0.442             1.867  ...             0.587   \n",
      "...                ...               ...  ...               ...   \n",
      "1699             0.276             0.276  ...             0.276   \n",
      "1700             0.175             0.068  ...             1.164   \n",
      "1701             0.343             0.343  ...             0.343   \n",
      "1702             0.419             0.219  ...             1.084   \n",
      "1703             0.322             0.322  ...             0.322   \n",
      "\n",
      "      Jun-Jul-Aug 2011  Jun-Jul-Aug 2012  Jun-Jul-Aug 2013  Jun-Jul-Aug 2014  \\\n",
      "0                2.450             0.305             1.924             1.492   \n",
      "1                0.930             0.930             0.930             0.930   \n",
      "2                0.532             0.973             1.126             0.671   \n",
      "3                0.585             0.585             0.585             0.585   \n",
      "4                1.930             1.356             0.886             0.706   \n",
      "...                ...               ...               ...               ...   \n",
      "1699             0.276             0.276             0.276             0.276   \n",
      "1700             1.005             1.104             0.935             0.807   \n",
      "1701             0.343             0.343             0.343             0.343   \n",
      "1702             1.277             1.143             1.169             0.743   \n",
      "1703             0.322             0.322             0.322             0.322   \n",
      "\n",
      "      Jun-Jul-Aug 2015  Jun-Jul-Aug 2016  Jun-Jul-Aug 2017  Jun-Jul-Aug 2018  \\\n",
      "0                1.289             1.586             2.002             1.786   \n",
      "1                0.930             0.930             0.930             0.930   \n",
      "2                1.092             1.079             0.901             1.815   \n",
      "3                0.585             0.585             0.585             0.585   \n",
      "4                0.589             0.311             0.102             0.982   \n",
      "...                ...               ...               ...               ...   \n",
      "1699             0.276             0.276             0.276             0.276   \n",
      "1700             0.751             1.251             1.227             1.449   \n",
      "1701             0.343             0.343             0.343             0.343   \n",
      "1702             0.900             1.175             0.971             0.854   \n",
      "1703             0.322             0.322             0.322             0.322   \n",
      "\n",
      "      Jun-Jul-Aug 2019  \n",
      "0               -0.289  \n",
      "1                0.930  \n",
      "2                1.885  \n",
      "3                0.585  \n",
      "4                0.773  \n",
      "...                ...  \n",
      "1699             0.276  \n",
      "1700             1.187  \n",
      "1701             0.343  \n",
      "1702             1.034  \n",
      "1703             0.322  \n",
      "\n",
      "[1704 rows x 59 columns]\n"
     ]
    }
   ],
   "source": [
    "def get_jun_jul_aug_data(df):\n",
    "    # Extract the available years from the column names (e.g., 'Y1960')\n",
    "    years = [col for col in df.columns if col.startswith('Y')]\n",
    "\n",
    "    jun_jul_aug_data = pd.DataFrame()\n",
    "\n",
    "    for year in years:\n",
    "        # Extract June, July, and August of the current year\n",
    "        jun_jul_aug = df[df['Months'].isin(['June', 'July', 'August'])][year]\n",
    "\n",
    "        # Add the data to the result DataFrame, labeled by the year\n",
    "        jun_jul_aug_data[f'Jun-Jul-Aug {year[1:]}'] = jun_jul_aug.reset_index(drop=True)\n",
    "\n",
    "    return jun_jul_aug_data\n",
    "\n",
    "# Usage Example\n",
    "df = pd.read_csv('Environment_Temperature_change_E_All_Data_NOFLAG.csv', encoding='ISO-8859-1')\n",
    "jun_jul_aug_data = get_jun_jul_aug_data(df)\n",
    "\n",
    "# Display or save the output\n",
    "print(jun_jul_aug_data)\n"
   ]
  },
  {
   "cell_type": "code",
   "execution_count": 6,
   "metadata": {},
   "outputs": [
    {
     "name": "stdout",
     "output_type": "stream",
     "text": [
      "      Sep-Oct-Nov 1961  Sep-Oct-Nov 1962  Sep-Oct-Nov 1963  Sep-Oct-Nov 1964  \\\n",
      "0                1.445            -1.797             0.163            -0.253   \n",
      "1                0.832             0.832             0.832             0.832   \n",
      "2               -1.102            -0.968             1.654            -2.839   \n",
      "3                1.310             1.310             1.310             1.310   \n",
      "4               -0.540            -2.171             0.584            -0.574   \n",
      "...                ...               ...               ...               ...   \n",
      "1699             0.322             0.322             0.322             0.322   \n",
      "1700             0.090             0.765             1.305            -0.355   \n",
      "1701             0.635             0.635             0.635             0.635   \n",
      "1702            -0.023             0.668             0.429            -0.003   \n",
      "1703             0.435             0.435             0.435             0.435   \n",
      "\n",
      "      Sep-Oct-Nov 1965  Sep-Oct-Nov 1966  Sep-Oct-Nov 1967  Sep-Oct-Nov 1968  \\\n",
      "0               -0.661            -0.403             0.583            -0.269   \n",
      "1                0.832             0.832             0.832             0.832   \n",
      "2                2.211            -0.428            -0.800            -0.611   \n",
      "3                1.310             1.310             1.310             1.310   \n",
      "4                1.820            -2.574             1.245             0.471   \n",
      "...                ...               ...               ...               ...   \n",
      "1699             0.322             0.322             0.322             0.322   \n",
      "1700            -0.092            -0.556             0.517             0.477   \n",
      "1701             0.635             0.635             0.635             0.635   \n",
      "1702             0.111            -0.564             0.273             0.099   \n",
      "1703             0.435             0.435             0.435             0.435   \n",
      "\n",
      "      Sep-Oct-Nov 1969  Sep-Oct-Nov 1970  ...  Sep-Oct-Nov 2010  \\\n",
      "0               -0.847             0.005  ...             0.030   \n",
      "1                0.832             0.832  ...             0.832   \n",
      "2                1.103             0.542  ...             2.927   \n",
      "3                1.310             1.310  ...             1.310   \n",
      "4               -0.742             0.881  ...             0.975   \n",
      "...                ...               ...  ...               ...   \n",
      "1699             0.322             0.322  ...             0.322   \n",
      "1700             0.042            -0.181  ...             0.964   \n",
      "1701             0.635             0.635  ...             0.635   \n",
      "1702             0.138             0.031  ...             1.088   \n",
      "1703             0.435             0.435  ...             0.435   \n",
      "\n",
      "      Sep-Oct-Nov 2011  Sep-Oct-Nov 2012  Sep-Oct-Nov 2013  Sep-Oct-Nov 2014  \\\n",
      "0                1.408             0.495             2.586             2.268   \n",
      "1                0.832             0.832             0.832             0.832   \n",
      "2                1.339             0.827             1.691             1.134   \n",
      "3                1.310             1.310             1.310             1.310   \n",
      "4                1.000             1.042             0.975            -0.403   \n",
      "...                ...               ...               ...               ...   \n",
      "1699             0.322             0.322             0.322             0.322   \n",
      "1700             1.117             0.544             1.321             1.675   \n",
      "1701             0.635             0.635             0.635             0.635   \n",
      "1702             0.882             0.741             0.326             0.357   \n",
      "1703             0.435             0.435             0.435             0.435   \n",
      "\n",
      "      Sep-Oct-Nov 2015  Sep-Oct-Nov 2016  Sep-Oct-Nov 2017  Sep-Oct-Nov 2018  \\\n",
      "0                0.172             3.016             0.930             1.063   \n",
      "1                0.832             0.832             0.832             0.832   \n",
      "2                1.894             0.792             2.092            -0.103   \n",
      "3                1.310             1.310             1.310             1.310   \n",
      "4                0.512            -1.345             2.089             0.882   \n",
      "...                ...               ...               ...               ...   \n",
      "1699             0.322             0.322             0.322             0.322   \n",
      "1700             1.658             0.916             1.413             0.622   \n",
      "1701             0.635             0.635             0.635             0.635   \n",
      "1702             2.063             2.353             0.878             0.364   \n",
      "1703             0.435             0.435             0.435             0.435   \n",
      "\n",
      "      Sep-Oct-Nov 2019  \n",
      "0                2.004  \n",
      "1                0.832  \n",
      "2                1.264  \n",
      "3                1.310  \n",
      "4               -1.051  \n",
      "...                ...  \n",
      "1699             0.322  \n",
      "1700             1.127  \n",
      "1701             0.635  \n",
      "1702             1.030  \n",
      "1703             0.435  \n",
      "\n",
      "[1704 rows x 59 columns]\n"
     ]
    }
   ],
   "source": [
    "def get_sep_oct_nov_data(df):\n",
    "    # Extract the available years from the column names (e.g., 'Y1960')\n",
    "    years = [col for col in df.columns if col.startswith('Y')]\n",
    "\n",
    "    sep_oct_nov_data = pd.DataFrame()\n",
    "\n",
    "    for year in years:\n",
    "        # Extract September, October, and November of the current year\n",
    "        sep_oct_nov = df[df['Months'].isin(['September', 'October', 'November'])][year]\n",
    "\n",
    "        # Add the data to the result DataFrame, labeled by the year\n",
    "        sep_oct_nov_data[f'Sep-Oct-Nov {year[1:]}'] = sep_oct_nov.reset_index(drop=True)\n",
    "\n",
    "    return sep_oct_nov_data\n",
    "\n",
    "# Usage Example\n",
    "df = pd.read_csv('Environment_Temperature_change_E_All_Data_NOFLAG.csv', encoding='ISO-8859-1')\n",
    "sep_oct_nov_data = get_sep_oct_nov_data(df)\n",
    "\n",
    "# Display or save the output\n",
    "print(sep_oct_nov_data)\n"
   ]
  },
  {
   "cell_type": "code",
   "execution_count": 7,
   "metadata": {},
   "outputs": [
    {
     "data": {
      "text/plain": [
       "'sep_oct_nov_data.csv'"
      ]
     },
     "execution_count": 7,
     "metadata": {},
     "output_type": "execute_result"
    }
   ],
   "source": [
    "csv_file_path = 'sep_oct_nov_data.csv'\n",
    "sep_oct_nov_data.to_csv(csv_file_path, index=False)\n",
    "\n",
    "csv_file_path"
   ]
  },
  {
   "cell_type": "code",
   "execution_count": 8,
   "metadata": {},
   "outputs": [
    {
     "data": {
      "text/plain": [
       "'jun_jul_aug_data.csv'"
      ]
     },
     "execution_count": 8,
     "metadata": {},
     "output_type": "execute_result"
    }
   ],
   "source": [
    "csv_file_path = 'jun_jul_aug_data.csv'\n",
    "jun_jul_aug_data.to_csv(csv_file_path, index=False)\n",
    "\n",
    "csv_file_path"
   ]
  },
  {
   "cell_type": "code",
   "execution_count": 9,
   "metadata": {},
   "outputs": [
    {
     "data": {
      "text/plain": [
       "'jun_jul_aug_data.csv'"
      ]
     },
     "execution_count": 9,
     "metadata": {},
     "output_type": "execute_result"
    }
   ],
   "source": [
    "csv_file_path = 'jun_jul_aug_data.csv'\n",
    "sep_oct_nov_data.to_csv(csv_file_path, index=False)\n",
    "\n",
    "csv_file_path"
   ]
  },
  {
   "cell_type": "code",
   "execution_count": 10,
   "metadata": {},
   "outputs": [
    {
     "data": {
      "text/plain": [
       "'dec_jan_feb_data.csv'"
      ]
     },
     "execution_count": 10,
     "metadata": {},
     "output_type": "execute_result"
    }
   ],
   "source": [
    "csv_file_path = 'dec_jan_feb_data.csv'\n",
    "dec_jan_feb_data.to_csv(csv_file_path, index=False)\n",
    "\n",
    "csv_file_path"
   ]
  },
  {
   "cell_type": "code",
   "execution_count": 11,
   "metadata": {},
   "outputs": [
    {
     "data": {
      "text/plain": [
       "'meteo_data.csv'"
      ]
     },
     "execution_count": 11,
     "metadata": {},
     "output_type": "execute_result"
    }
   ],
   "source": [
    "csv_file_path = 'meteo_data.csv'\n",
    "meteo_data.to_csv(csv_file_path, index=False)\n",
    "\n",
    "csv_file_path"
   ]
  },
  {
   "cell_type": "code",
   "execution_count": 12,
   "metadata": {},
   "outputs": [
    {
     "data": {
      "text/plain": [
       "(['Meteorological Year 1962',\n",
       "  'Meteorological Year 1963',\n",
       "  'Meteorological Year 1964',\n",
       "  'Meteorological Year 1965',\n",
       "  'Meteorological Year 1966',\n",
       "  'Meteorological Year 1967',\n",
       "  'Meteorological Year 1968',\n",
       "  'Meteorological Year 1969',\n",
       "  'Meteorological Year 1970',\n",
       "  'Meteorological Year 1971',\n",
       "  'Meteorological Year 1972',\n",
       "  'Meteorological Year 1973',\n",
       "  'Meteorological Year 1974',\n",
       "  'Meteorological Year 1975',\n",
       "  'Meteorological Year 1976',\n",
       "  'Meteorological Year 1977',\n",
       "  'Meteorological Year 1978',\n",
       "  'Meteorological Year 1979',\n",
       "  'Meteorological Year 1980',\n",
       "  'Meteorological Year 1981',\n",
       "  'Meteorological Year 1982',\n",
       "  'Meteorological Year 1983',\n",
       "  'Meteorological Year 1984',\n",
       "  'Meteorological Year 1985',\n",
       "  'Meteorological Year 1986',\n",
       "  'Meteorological Year 1987',\n",
       "  'Meteorological Year 1988',\n",
       "  'Meteorological Year 1989',\n",
       "  'Meteorological Year 1990',\n",
       "  'Meteorological Year 1991',\n",
       "  'Meteorological Year 1992',\n",
       "  'Meteorological Year 1993',\n",
       "  'Meteorological Year 1994',\n",
       "  'Meteorological Year 1995',\n",
       "  'Meteorological Year 1996',\n",
       "  'Meteorological Year 1997',\n",
       "  'Meteorological Year 1998',\n",
       "  'Meteorological Year 1999',\n",
       "  'Meteorological Year 2000',\n",
       "  'Meteorological Year 2001',\n",
       "  'Meteorological Year 2002',\n",
       "  'Meteorological Year 2003',\n",
       "  'Meteorological Year 2004',\n",
       "  'Meteorological Year 2005',\n",
       "  'Meteorological Year 2006',\n",
       "  'Meteorological Year 2007',\n",
       "  'Meteorological Year 2008',\n",
       "  'Meteorological Year 2009',\n",
       "  'Meteorological Year 2010',\n",
       "  'Meteorological Year 2011',\n",
       "  'Meteorological Year 2012',\n",
       "  'Meteorological Year 2013',\n",
       "  'Meteorological Year 2014',\n",
       "  'Meteorological Year 2015',\n",
       "  'Meteorological Year 2016',\n",
       "  'Meteorological Year 2017',\n",
       "  'Meteorological Year 2018',\n",
       "  'Meteorological Year 2019'],\n",
       " ['0.6',\n",
       "  '-0.721',\n",
       "  '-0.603',\n",
       "  '-3.636',\n",
       "  '-1.115',\n",
       "  '-0.327',\n",
       "  '-0.347',\n",
       "  '0.056',\n",
       "  '1.985',\n",
       "  '-0.186',\n",
       "  '2.462',\n",
       "  '-2.037',\n",
       "  '-0.723',\n",
       "  '-1.53',\n",
       "  '-0.696',\n",
       "  '-1.016',\n",
       "  '1.14',\n",
       "  '2.34',\n",
       "  '1.053',\n",
       "  '1.199',\n",
       "  '1.619',\n",
       "  '-1.85',\n",
       "  '-0.588',\n",
       "  '-3.167',\n",
       "  '-0.262',\n",
       "  '-1.094',\n",
       "  '1.504',\n",
       "  '2.456',\n",
       "  '1.918',\n",
       "  '-0.573',\n",
       "  '1.704',\n",
       "  '2.007',\n",
       "  '0.66',\n",
       "  '0.014',\n",
       "  '-0.878',\n",
       "  '0.94',\n",
       "  '0.29',\n",
       "  '2.817',\n",
       "  '1.199',\n",
       "  '0.967',\n",
       "  '2.137',\n",
       "  '-1.256',\n",
       "  '-0.076',\n",
       "  '0.187',\n",
       "  '0.867',\n",
       "  '-1.976',\n",
       "  '-0.736',\n",
       "  '0.842',\n",
       "  '0.95',\n",
       "  '-0.154',\n",
       "  '-1.789',\n",
       "  '-0.467',\n",
       "  '-0.216',\n",
       "  '0.005',\n",
       "  '0.048',\n",
       "  '3.429',\n",
       "  '0.441',\n",
       "  '1.311'])"
      ]
     },
     "execution_count": 12,
     "metadata": {},
     "output_type": "execute_result"
    }
   ],
   "source": [
    "# Let's first load the CSV file to see its contents and understand the data structure.\n",
    "import csv\n",
    "\n",
    "file_path = 'meteo_data.csv'\n",
    "\n",
    "# Reading the first few lines of the CSV file to inspect its structure\n",
    "with open(file_path, newline='') as csvfile:\n",
    "    reader = csv.reader(csvfile)\n",
    "    header = next(reader)  # Extracting the header\n",
    "    first_row = next(reader)  # Extracting the first row of data\n",
    "\n",
    "header, first_row\n"
   ]
  },
  {
   "cell_type": "code",
   "execution_count": 13,
   "metadata": {},
   "outputs": [
    {
     "data": {
      "application/vnd.plotly.v1+json": {
       "config": {
        "plotlyServerURL": "https://plot.ly"
       },
       "data": [
        {
         "fill": "tozeroy",
         "line": {
          "width": 0.5
         },
         "marker": {
          "color": "blue"
         },
         "mode": "lines+markers+text",
         "name": "World",
         "type": "scatter",
         "x": [
          1962,
          1963,
          1964,
          1965,
          1966,
          1967,
          1968,
          1969,
          1970,
          1971,
          1972,
          1973,
          1974,
          1975,
          1976,
          1977,
          1978,
          1979,
          1980,
          1981,
          1982,
          1983,
          1984,
          1985,
          1986,
          1987,
          1988,
          1989,
          1990,
          1991,
          1992,
          1993,
          1994,
          1995,
          1996,
          1997,
          1998,
          1999,
          2000,
          2001,
          2002,
          2003,
          2004,
          2005,
          2006,
          2007,
          2008,
          2009,
          2010,
          2011,
          2012,
          2013,
          2014,
          2015,
          2016,
          2017,
          2018,
          2019
         ],
         "y": [
          0.6,
          -0.721,
          -0.603,
          -3.636,
          -1.115,
          -0.327,
          -0.347,
          0.056,
          1.985,
          -0.186,
          2.462,
          -2.037,
          -0.723,
          -1.53,
          -0.696,
          -1.016,
          1.14,
          2.34,
          1.053,
          1.199,
          1.619,
          -1.85,
          -0.588,
          -3.167,
          -0.262,
          -1.094,
          1.504,
          2.456,
          1.918,
          -0.573,
          1.704,
          2.007,
          0.66,
          0.014,
          -0.878,
          0.94,
          0.29,
          2.817,
          1.199,
          0.967,
          2.137,
          -1.256,
          -0.076,
          0.187,
          0.867,
          -1.976,
          -0.736,
          0.842,
          0.95,
          -0.154,
          -1.789,
          -0.467,
          -0.216,
          0.005,
          0.048,
          3.429,
          0.441,
          1.311
         ]
        },
        {
         "fill": "tozeroy",
         "line": {
          "width": 0.5
         },
         "marker": {
          "color": "orange"
         },
         "mode": "lines+markers+text",
         "name": "Annex I countries",
         "type": "scatter",
         "x": [
          1962,
          1963,
          1964,
          1965,
          1966,
          1967,
          1968,
          1969,
          1970,
          1971,
          1972,
          1973,
          1974,
          1975,
          1976,
          1977,
          1978,
          1979,
          1980,
          1981,
          1982,
          1983,
          1984,
          1985,
          1986,
          1987,
          1988,
          1989,
          1990,
          1991,
          1992,
          1993,
          1994,
          1995,
          1996,
          1997,
          1998,
          1999,
          2000,
          2001,
          2002,
          2003,
          2004,
          2005,
          2006,
          2007,
          2008,
          2009,
          2010,
          2011,
          2012,
          2013,
          2014,
          2015,
          2016,
          2017,
          2018,
          2019
         ],
         "y": [
          1.482026172983832,
          -0.5209213958163883,
          -0.11363100794713038,
          -2.5155534003992712,
          -0.18122100492501625,
          -0.8156389399382056,
          0.1280442087627947,
          -0.019678604148848942,
          1.9333905741032211,
          0.019299250969186166,
          2.534021785580439,
          -1.3098632465185123,
          -0.34248113742650327,
          -1.4691624917535857,
          -0.4740683836272871,
          -0.8491628363128666,
          1.8870395365788029,
          2.2374208681170993,
          1.2095338508254505,
          0.7719521303491377,
          0.34250509208296065,
          -1.5231907022798197,
          -0.1557819005702471,
          -3.5380825102032207,
          0.8728773119938038,
          -1.8211828372993826,
          1.526879258650723,
          2.362408074987083,
          2.6843896071792286,
          0.16167938495014256,
          1.7814737128484581,
          2.196081259801087,
          0.21610712618494365,
          -0.9763982341119635,
          -1.0519560746630763,
          1.01817448455199,
          0.9051453403638603,
          3.418189924392206,
          1.005336591296024,
          0.8158486247123322,
          1.6127235174664536,
          -1.9660089685894877,
          -0.9291350953125063,
          1.1623876976158949,
          0.6121739091241732,
          -2.195037150805593,
          -1.362397680024963,
          1.230745177915955,
          0.1430510762210242,
          -0.26037014010698434,
          -2.236733280596838,
          -0.273548751070369,
          -0.47140256878443654,
          -0.585316092061206,
          0.033908885830672565,
          3.6431659352652086,
          0.47425861119158397,
          1.4622359488698906
         ]
        },
        {
         "fill": "tozeroy",
         "line": {
          "width": 0.5
         },
         "marker": {
          "color": "green"
         },
         "mode": "lines+markers+text",
         "name": "Non-Annex I countries",
         "type": "scatter",
         "x": [
          1962,
          1963,
          1964,
          1965,
          1966,
          1967,
          1968,
          1969,
          1970,
          1971,
          1972,
          1973,
          1974,
          1975,
          1976,
          1977,
          1978,
          1979,
          1980,
          1981,
          1982,
          1983,
          1984,
          1985,
          1986,
          1987,
          1988,
          1989,
          1990,
          1991,
          1992,
          1993,
          1994,
          1995,
          1996,
          1997,
          1998,
          1999,
          2000,
          2001,
          2002,
          2003,
          2004,
          2005,
          2006,
          2007,
          2008,
          2009,
          2010,
          2011,
          2012,
          2013,
          2014,
          2015,
          2016,
          2017,
          2018,
          2019
         ],
         "y": [
          0.15597453442332548,
          -0.9749188161909966,
          -1.0737223134431657,
          -3.887687213078379,
          -1.6842023974311178,
          -1.5353978216321738,
          -0.22280170042237302,
          -0.2252466553457833,
          0.8438611571237689,
          0.13794757886804193,
          1.8268911449317307,
          -2.000638222942703,
          -0.21263660647572424,
          -1.4397119624698125,
          0.10158047918031043,
          -1.8803780742475569,
          1.421639148824284,
          1.8606329363417806,
          0.4434419955726827,
          0.7938052346649093,
          1.4009132275108391,
          -1.8106842604391782,
          -1.4036048885483494,
          -2.536421459132069,
          0.06396370781132188,
          -2.1693705803940566,
          2.5457765356569197,
          3.783122423221408,
          2.7431456998117554,
          -0.6989473850686456,
          0.9544731649426202,
          2.7451162088517957,
          0.37777613711877434,
          0.8697115492676992,
          -0.7322075153461978,
          1.6236473255385988,
          0.5394564780220813,
          3.311601217734364,
          1.2063500145045745,
          2.2171093457340847,
          2.225838464892534,
          -0.9746074455887088,
          1.242205487939378,
          -0.7564313427997125,
          -0.022339498940013414,
          -1.2974223042893922,
          -1.557186383579912,
          2.2025348299545047,
          0.6604667134681768,
          -0.6772183680085304,
          -0.4429405814637306,
          0.5693603540040968,
          1.0912912722985988,
          0.6392312607927697,
          -0.5548579795382917,
          4.766045467169324,
          0.2533976403340338,
          1.8727194770574767
         ]
        }
       ],
       "layout": {
        "legend": {
         "title": {
          "text": "Country Classification"
         }
        },
        "paper_bgcolor": "white",
        "plot_bgcolor": "lightgrey",
        "showlegend": true,
        "template": {
         "data": {
          "bar": [
           {
            "error_x": {
             "color": "#2a3f5f"
            },
            "error_y": {
             "color": "#2a3f5f"
            },
            "marker": {
             "line": {
              "color": "#E5ECF6",
              "width": 0.5
             },
             "pattern": {
              "fillmode": "overlay",
              "size": 10,
              "solidity": 0.2
             }
            },
            "type": "bar"
           }
          ],
          "barpolar": [
           {
            "marker": {
             "line": {
              "color": "#E5ECF6",
              "width": 0.5
             },
             "pattern": {
              "fillmode": "overlay",
              "size": 10,
              "solidity": 0.2
             }
            },
            "type": "barpolar"
           }
          ],
          "carpet": [
           {
            "aaxis": {
             "endlinecolor": "#2a3f5f",
             "gridcolor": "white",
             "linecolor": "white",
             "minorgridcolor": "white",
             "startlinecolor": "#2a3f5f"
            },
            "baxis": {
             "endlinecolor": "#2a3f5f",
             "gridcolor": "white",
             "linecolor": "white",
             "minorgridcolor": "white",
             "startlinecolor": "#2a3f5f"
            },
            "type": "carpet"
           }
          ],
          "choropleth": [
           {
            "colorbar": {
             "outlinewidth": 0,
             "ticks": ""
            },
            "type": "choropleth"
           }
          ],
          "contour": [
           {
            "colorbar": {
             "outlinewidth": 0,
             "ticks": ""
            },
            "colorscale": [
             [
              0,
              "#0d0887"
             ],
             [
              0.1111111111111111,
              "#46039f"
             ],
             [
              0.2222222222222222,
              "#7201a8"
             ],
             [
              0.3333333333333333,
              "#9c179e"
             ],
             [
              0.4444444444444444,
              "#bd3786"
             ],
             [
              0.5555555555555556,
              "#d8576b"
             ],
             [
              0.6666666666666666,
              "#ed7953"
             ],
             [
              0.7777777777777778,
              "#fb9f3a"
             ],
             [
              0.8888888888888888,
              "#fdca26"
             ],
             [
              1,
              "#f0f921"
             ]
            ],
            "type": "contour"
           }
          ],
          "contourcarpet": [
           {
            "colorbar": {
             "outlinewidth": 0,
             "ticks": ""
            },
            "type": "contourcarpet"
           }
          ],
          "heatmap": [
           {
            "colorbar": {
             "outlinewidth": 0,
             "ticks": ""
            },
            "colorscale": [
             [
              0,
              "#0d0887"
             ],
             [
              0.1111111111111111,
              "#46039f"
             ],
             [
              0.2222222222222222,
              "#7201a8"
             ],
             [
              0.3333333333333333,
              "#9c179e"
             ],
             [
              0.4444444444444444,
              "#bd3786"
             ],
             [
              0.5555555555555556,
              "#d8576b"
             ],
             [
              0.6666666666666666,
              "#ed7953"
             ],
             [
              0.7777777777777778,
              "#fb9f3a"
             ],
             [
              0.8888888888888888,
              "#fdca26"
             ],
             [
              1,
              "#f0f921"
             ]
            ],
            "type": "heatmap"
           }
          ],
          "heatmapgl": [
           {
            "colorbar": {
             "outlinewidth": 0,
             "ticks": ""
            },
            "colorscale": [
             [
              0,
              "#0d0887"
             ],
             [
              0.1111111111111111,
              "#46039f"
             ],
             [
              0.2222222222222222,
              "#7201a8"
             ],
             [
              0.3333333333333333,
              "#9c179e"
             ],
             [
              0.4444444444444444,
              "#bd3786"
             ],
             [
              0.5555555555555556,
              "#d8576b"
             ],
             [
              0.6666666666666666,
              "#ed7953"
             ],
             [
              0.7777777777777778,
              "#fb9f3a"
             ],
             [
              0.8888888888888888,
              "#fdca26"
             ],
             [
              1,
              "#f0f921"
             ]
            ],
            "type": "heatmapgl"
           }
          ],
          "histogram": [
           {
            "marker": {
             "pattern": {
              "fillmode": "overlay",
              "size": 10,
              "solidity": 0.2
             }
            },
            "type": "histogram"
           }
          ],
          "histogram2d": [
           {
            "colorbar": {
             "outlinewidth": 0,
             "ticks": ""
            },
            "colorscale": [
             [
              0,
              "#0d0887"
             ],
             [
              0.1111111111111111,
              "#46039f"
             ],
             [
              0.2222222222222222,
              "#7201a8"
             ],
             [
              0.3333333333333333,
              "#9c179e"
             ],
             [
              0.4444444444444444,
              "#bd3786"
             ],
             [
              0.5555555555555556,
              "#d8576b"
             ],
             [
              0.6666666666666666,
              "#ed7953"
             ],
             [
              0.7777777777777778,
              "#fb9f3a"
             ],
             [
              0.8888888888888888,
              "#fdca26"
             ],
             [
              1,
              "#f0f921"
             ]
            ],
            "type": "histogram2d"
           }
          ],
          "histogram2dcontour": [
           {
            "colorbar": {
             "outlinewidth": 0,
             "ticks": ""
            },
            "colorscale": [
             [
              0,
              "#0d0887"
             ],
             [
              0.1111111111111111,
              "#46039f"
             ],
             [
              0.2222222222222222,
              "#7201a8"
             ],
             [
              0.3333333333333333,
              "#9c179e"
             ],
             [
              0.4444444444444444,
              "#bd3786"
             ],
             [
              0.5555555555555556,
              "#d8576b"
             ],
             [
              0.6666666666666666,
              "#ed7953"
             ],
             [
              0.7777777777777778,
              "#fb9f3a"
             ],
             [
              0.8888888888888888,
              "#fdca26"
             ],
             [
              1,
              "#f0f921"
             ]
            ],
            "type": "histogram2dcontour"
           }
          ],
          "mesh3d": [
           {
            "colorbar": {
             "outlinewidth": 0,
             "ticks": ""
            },
            "type": "mesh3d"
           }
          ],
          "parcoords": [
           {
            "line": {
             "colorbar": {
              "outlinewidth": 0,
              "ticks": ""
             }
            },
            "type": "parcoords"
           }
          ],
          "pie": [
           {
            "automargin": true,
            "type": "pie"
           }
          ],
          "scatter": [
           {
            "fillpattern": {
             "fillmode": "overlay",
             "size": 10,
             "solidity": 0.2
            },
            "type": "scatter"
           }
          ],
          "scatter3d": [
           {
            "line": {
             "colorbar": {
              "outlinewidth": 0,
              "ticks": ""
             }
            },
            "marker": {
             "colorbar": {
              "outlinewidth": 0,
              "ticks": ""
             }
            },
            "type": "scatter3d"
           }
          ],
          "scattercarpet": [
           {
            "marker": {
             "colorbar": {
              "outlinewidth": 0,
              "ticks": ""
             }
            },
            "type": "scattercarpet"
           }
          ],
          "scattergeo": [
           {
            "marker": {
             "colorbar": {
              "outlinewidth": 0,
              "ticks": ""
             }
            },
            "type": "scattergeo"
           }
          ],
          "scattergl": [
           {
            "marker": {
             "colorbar": {
              "outlinewidth": 0,
              "ticks": ""
             }
            },
            "type": "scattergl"
           }
          ],
          "scattermapbox": [
           {
            "marker": {
             "colorbar": {
              "outlinewidth": 0,
              "ticks": ""
             }
            },
            "type": "scattermapbox"
           }
          ],
          "scatterpolar": [
           {
            "marker": {
             "colorbar": {
              "outlinewidth": 0,
              "ticks": ""
             }
            },
            "type": "scatterpolar"
           }
          ],
          "scatterpolargl": [
           {
            "marker": {
             "colorbar": {
              "outlinewidth": 0,
              "ticks": ""
             }
            },
            "type": "scatterpolargl"
           }
          ],
          "scatterternary": [
           {
            "marker": {
             "colorbar": {
              "outlinewidth": 0,
              "ticks": ""
             }
            },
            "type": "scatterternary"
           }
          ],
          "surface": [
           {
            "colorbar": {
             "outlinewidth": 0,
             "ticks": ""
            },
            "colorscale": [
             [
              0,
              "#0d0887"
             ],
             [
              0.1111111111111111,
              "#46039f"
             ],
             [
              0.2222222222222222,
              "#7201a8"
             ],
             [
              0.3333333333333333,
              "#9c179e"
             ],
             [
              0.4444444444444444,
              "#bd3786"
             ],
             [
              0.5555555555555556,
              "#d8576b"
             ],
             [
              0.6666666666666666,
              "#ed7953"
             ],
             [
              0.7777777777777778,
              "#fb9f3a"
             ],
             [
              0.8888888888888888,
              "#fdca26"
             ],
             [
              1,
              "#f0f921"
             ]
            ],
            "type": "surface"
           }
          ],
          "table": [
           {
            "cells": {
             "fill": {
              "color": "#EBF0F8"
             },
             "line": {
              "color": "white"
             }
            },
            "header": {
             "fill": {
              "color": "#C8D4E3"
             },
             "line": {
              "color": "white"
             }
            },
            "type": "table"
           }
          ]
         },
         "layout": {
          "annotationdefaults": {
           "arrowcolor": "#2a3f5f",
           "arrowhead": 0,
           "arrowwidth": 1
          },
          "autotypenumbers": "strict",
          "coloraxis": {
           "colorbar": {
            "outlinewidth": 0,
            "ticks": ""
           }
          },
          "colorscale": {
           "diverging": [
            [
             0,
             "#8e0152"
            ],
            [
             0.1,
             "#c51b7d"
            ],
            [
             0.2,
             "#de77ae"
            ],
            [
             0.3,
             "#f1b6da"
            ],
            [
             0.4,
             "#fde0ef"
            ],
            [
             0.5,
             "#f7f7f7"
            ],
            [
             0.6,
             "#e6f5d0"
            ],
            [
             0.7,
             "#b8e186"
            ],
            [
             0.8,
             "#7fbc41"
            ],
            [
             0.9,
             "#4d9221"
            ],
            [
             1,
             "#276419"
            ]
           ],
           "sequential": [
            [
             0,
             "#0d0887"
            ],
            [
             0.1111111111111111,
             "#46039f"
            ],
            [
             0.2222222222222222,
             "#7201a8"
            ],
            [
             0.3333333333333333,
             "#9c179e"
            ],
            [
             0.4444444444444444,
             "#bd3786"
            ],
            [
             0.5555555555555556,
             "#d8576b"
            ],
            [
             0.6666666666666666,
             "#ed7953"
            ],
            [
             0.7777777777777778,
             "#fb9f3a"
            ],
            [
             0.8888888888888888,
             "#fdca26"
            ],
            [
             1,
             "#f0f921"
            ]
           ],
           "sequentialminus": [
            [
             0,
             "#0d0887"
            ],
            [
             0.1111111111111111,
             "#46039f"
            ],
            [
             0.2222222222222222,
             "#7201a8"
            ],
            [
             0.3333333333333333,
             "#9c179e"
            ],
            [
             0.4444444444444444,
             "#bd3786"
            ],
            [
             0.5555555555555556,
             "#d8576b"
            ],
            [
             0.6666666666666666,
             "#ed7953"
            ],
            [
             0.7777777777777778,
             "#fb9f3a"
            ],
            [
             0.8888888888888888,
             "#fdca26"
            ],
            [
             1,
             "#f0f921"
            ]
           ]
          },
          "colorway": [
           "#636efa",
           "#EF553B",
           "#00cc96",
           "#ab63fa",
           "#FFA15A",
           "#19d3f3",
           "#FF6692",
           "#B6E880",
           "#FF97FF",
           "#FECB52"
          ],
          "font": {
           "color": "#2a3f5f"
          },
          "geo": {
           "bgcolor": "white",
           "lakecolor": "white",
           "landcolor": "#E5ECF6",
           "showlakes": true,
           "showland": true,
           "subunitcolor": "white"
          },
          "hoverlabel": {
           "align": "left"
          },
          "hovermode": "closest",
          "mapbox": {
           "style": "light"
          },
          "paper_bgcolor": "white",
          "plot_bgcolor": "#E5ECF6",
          "polar": {
           "angularaxis": {
            "gridcolor": "white",
            "linecolor": "white",
            "ticks": ""
           },
           "bgcolor": "#E5ECF6",
           "radialaxis": {
            "gridcolor": "white",
            "linecolor": "white",
            "ticks": ""
           }
          },
          "scene": {
           "xaxis": {
            "backgroundcolor": "#E5ECF6",
            "gridcolor": "white",
            "gridwidth": 2,
            "linecolor": "white",
            "showbackground": true,
            "ticks": "",
            "zerolinecolor": "white"
           },
           "yaxis": {
            "backgroundcolor": "#E5ECF6",
            "gridcolor": "white",
            "gridwidth": 2,
            "linecolor": "white",
            "showbackground": true,
            "ticks": "",
            "zerolinecolor": "white"
           },
           "zaxis": {
            "backgroundcolor": "#E5ECF6",
            "gridcolor": "white",
            "gridwidth": 2,
            "linecolor": "white",
            "showbackground": true,
            "ticks": "",
            "zerolinecolor": "white"
           }
          },
          "shapedefaults": {
           "line": {
            "color": "#2a3f5f"
           }
          },
          "ternary": {
           "aaxis": {
            "gridcolor": "white",
            "linecolor": "white",
            "ticks": ""
           },
           "baxis": {
            "gridcolor": "white",
            "linecolor": "white",
            "ticks": ""
           },
           "bgcolor": "#E5ECF6",
           "caxis": {
            "gridcolor": "white",
            "linecolor": "white",
            "ticks": ""
           }
          },
          "title": {
           "x": 0.05
          },
          "xaxis": {
           "automargin": true,
           "gridcolor": "white",
           "linecolor": "white",
           "ticks": "",
           "title": {
            "standoff": 15
           },
           "zerolinecolor": "white",
           "zerolinewidth": 2
          },
          "yaxis": {
           "automargin": true,
           "gridcolor": "white",
           "linecolor": "white",
           "ticks": "",
           "title": {
            "standoff": 15
           },
           "zerolinecolor": "white",
           "zerolinewidth": 2
          }
         }
        },
        "title": {
         "text": "Meteorological Data Over Years (Area Chart)"
        },
        "xaxis": {
         "title": {
          "text": "Years"
         }
        },
        "yaxis": {
         "title": {
          "text": "Meteorological Value"
         }
        }
       }
      }
     },
     "metadata": {},
     "output_type": "display_data"
    }
   ],
   "source": [
    "import plotly.graph_objects as go\n",
    "import numpy as np\n",
    "\n",
    "# Creating simulated datasets for demonstration\n",
    "np.random.seed(0)  # For reproducibility\n",
    "years = [int(year.split()[-1]) for year in header]\n",
    "values = [float(value) for value in first_row]\n",
    "\n",
    "# Simulating two additional datasets by adding some random noise\n",
    "annex_i_values = np.array(values) + np.random.normal(0, 0.5, len(values))\n",
    "non_annex_i_values = np.array(values) + np.random.normal(0, 0.7, len(values))\n",
    "\n",
    "# Create the area chart with Plotly\n",
    "fig = go.Figure()\n",
    "\n",
    "# Use area traces\n",
    "fig.add_trace(go.Scatter(x=years, y=values,\n",
    "                         mode='lines+markers+text',\n",
    "                         name='World',\n",
    "                         fill='tozeroy',  # Fill the area under the line\n",
    "                         marker_color='blue',\n",
    "                         line=dict(width=0.5)))  # Adjust line width\n",
    "\n",
    "fig.add_trace(go.Scatter(x=years, y=annex_i_values,\n",
    "                         mode='lines+markers+text',\n",
    "                         name='Annex I countries',\n",
    "                         fill='tozeroy',  # Fill the area under the line\n",
    "                         marker_color='orange',\n",
    "                         line=dict(width=0.5)))  # Adjust line width\n",
    "\n",
    "fig.add_trace(go.Scatter(x=years, y=non_annex_i_values,\n",
    "                         mode='lines+markers+text',\n",
    "                         name='Non-Annex I countries',\n",
    "                         fill='tozeroy',  # Fill the area under the line\n",
    "                         marker_color='green',\n",
    "                         line=dict(width=0.5)))  # Adjust line width\n",
    "\n",
    "# Update layout for area chart\n",
    "fig.update_layout(title='Meteorological Data Over Years (Area Chart)',\n",
    "                  xaxis_title='Years',\n",
    "                  yaxis_title='Meteorological Value',\n",
    "                  showlegend=True,\n",
    "                  legend_title='Country Classification',\n",
    "                  plot_bgcolor='lightgrey',\n",
    "                  paper_bgcolor='white')\n",
    "\n",
    "# Show the figure\n",
    "fig.show()\n",
    "\n"
   ]
  }
 ],
 "metadata": {
  "kernelspec": {
   "display_name": "Python 3",
   "language": "python",
   "name": "python3"
  },
  "language_info": {
   "codemirror_mode": {
    "name": "ipython",
    "version": 3
   },
   "file_extension": ".py",
   "mimetype": "text/x-python",
   "name": "python",
   "nbconvert_exporter": "python",
   "pygments_lexer": "ipython3",
   "version": "3.12.7"
  }
 },
 "nbformat": 4,
 "nbformat_minor": 2
}
